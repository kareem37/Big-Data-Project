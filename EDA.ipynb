{
 "cells": [
  {
   "cell_type": "code",
   "execution_count": 1,
   "metadata": {},
   "outputs": [
    {
     "name": "stdout",
     "output_type": "stream",
     "text": [
      "hello, kareeeeem\n"
     ]
    }
   ],
   "source": [
    "print(\"hello, kareeeeem\")"
   ]
  }
 ],
 "metadata": {
  "kernelspec": {
   "display_name": "tf_2.11",
   "language": "python",
   "name": "python3"
  },
  "language_info": {
   "name": "python",
   "version": "3.8.5"
  }
 },
 "nbformat": 4,
 "nbformat_minor": 2
}
